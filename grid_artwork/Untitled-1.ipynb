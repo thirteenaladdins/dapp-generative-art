{
 "cells": [
  {
   "cell_type": "code",
   "execution_count": 18,
   "metadata": {},
   "outputs": [],
   "source": [
    "import py5 \n",
    "import py5_tools\n",
    "import time"
   ]
  },
  {
   "cell_type": "code",
   "execution_count": 21,
   "metadata": {},
   "outputs": [
    {
     "name": "stderr",
     "output_type": "stream",
     "text": [
      "Sketch is already running. To run a new sketch, exit the running sketch first.\n"
     ]
    }
   ],
   "source": [
    "def setup():\n",
    "    py5.size(600,600)\n",
    "    py5.no_loop()\n",
    "\n",
    "def draw():\n",
    "    random_x = py5.random(py5.width)\n",
    "    random_y = py5.random(py5.height)\n",
    "    py5.rect(random_x, random_y, 10, 10)\n",
    "\n",
    "py5.run_sketch()\n",
    "# stream frames from the currently running sketch for 5 seconds\n",
    "# portal = py5_tools.sketch_portal()\n",
    "# portal"
   ]
  }
 ],
 "metadata": {
  "kernelspec": {
   "display_name": "Python 3.9.7 ('py-generative': venv)",
   "language": "python",
   "name": "python3"
  },
  "language_info": {
   "codemirror_mode": {
    "name": "ipython",
    "version": 3
   },
   "file_extension": ".py",
   "mimetype": "text/x-python",
   "name": "python",
   "nbconvert_exporter": "python",
   "pygments_lexer": "ipython3",
   "version": "3.9.7"
  },
  "orig_nbformat": 4,
  "vscode": {
   "interpreter": {
    "hash": "1e74d3647c7ed358fbf7ac34638ac0b5a152b061adcc0077a8e2adf2c3df5024"
   }
  }
 },
 "nbformat": 4,
 "nbformat_minor": 2
}
